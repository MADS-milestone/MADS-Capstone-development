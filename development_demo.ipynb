{
 "cells": [
  {
   "cell_type": "markdown",
   "id": "a113b95e",
   "metadata": {},
   "source": [
    "<span style=\"color: blue; font-size: 30px;\">Demonstration Notebook</span><br>\n",
    "**Purpose**:  A demonstration based on the notebooks we used to develop a workflow for<br>a Retrieval Augmented Generation (RAG) application supporting a ChatBot</span><br>\n",
    "**Scope**: Clinical Trials — *Phase 3, Study Completed, Reported p-values, Sponsor is Pfizer*"
   ]
  },
  {
   "cell_type": "markdown",
   "id": "10f05e17",
   "metadata": {},
   "source": [
    "## Dependencies"
   ]
  },
  {
   "cell_type": "code",
   "execution_count": 1,
   "id": "a510213f",
   "metadata": {},
   "outputs": [],
   "source": [
    "import json\n",
    "import os\n",
    "import re\n",
    "import requests as req\n",
    "import sys\n",
    "import urllib.request\n",
    "from dotenv import load_dotenv\n",
    "from getpass import getpass\n",
    "from IPython.display import display, Markdown\n",
    "\n",
    "import chromadb\n",
    "\n",
    "from llama_index.core import Document, Settings, StorageContext, VectorStoreIndex\n",
    "from llama_index.core import __version__ as llama_index_version\n",
    "from llama_index.core.evaluation import BatchEvalRunner\n",
    "from llama_index.core.evaluation import FaithfulnessEvaluator\n",
    "from llama_index.core.evaluation import generate_question_context_pairs\n",
    "from llama_index.core.evaluation import RelevancyEvaluator\n",
    "from llama_index.core.evaluation import RetrieverEvaluator\n",
    "from llama_index.core.memory import ChatMemoryBuffer\n",
    "from llama_index.core.node_parser import SentenceSplitter\n",
    "from llama_index.core.response.notebook_utils import display_response\n",
    "from llama_index.core.schema import MetadataMode\n",
    "from llama_index.embeddings.openai import OpenAIEmbedding\n",
    "from llama_index.llms.openai import OpenAI\n",
    "from llama_index.vector_stores.chroma import ChromaVectorStore\n",
    "\n",
    "import openai\n",
    "import pandas as pd\n",
    "import random\n",
    "import time\n",
    "\n",
    "from utils import extract_from_json, flatten_dict, replace_double_newline, format_flattened_dict, pfizer_ncts"
   ]
  },
  {
   "cell_type": "markdown",
   "id": "e87ef9f1",
   "metadata": {},
   "source": [
    "### Environment"
   ]
  },
  {
   "cell_type": "code",
   "execution_count": 2,
   "id": "87579f3a",
   "metadata": {},
   "outputs": [
    {
     "name": "stdout",
     "output_type": "stream",
     "text": [
      "Python version: 3.10.9\n",
      "llama_index.core: 0.10.21\n",
      "chromadb: 0.4.24\n"
     ]
    }
   ],
   "source": [
    "print(f\"Python version: {sys.version.split(' ')[0]}\")\n",
    "print(f\"llama_index.core: {llama_index_version}\")\n",
    "print(f\"chromadb: {chromadb.__version__}\")"
   ]
  },
  {
   "cell_type": "markdown",
   "id": "c1b27c92",
   "metadata": {},
   "source": [
    "### Verify API tokens are available"
   ]
  },
  {
   "cell_type": "code",
   "execution_count": 3,
   "id": "c44ccd20",
   "metadata": {
    "ExecuteTime": {
     "end_time": "2024-02-22T15:27:26.245184400Z",
     "start_time": "2024-02-22T15:27:26.230187Z"
    }
   },
   "outputs": [
    {
     "name": "stdout",
     "output_type": "stream",
     "text": [
      "Please input your OpenAI API Key and Enter: ········\n"
     ]
    }
   ],
   "source": [
    "load_dotenv() \n",
    "OPENAI_API_KEY = os.getenv(\"OPENAI_API_KEY\")\n",
    "\n",
    "if OPENAI_API_KEY is None:\n",
    "  OPENAI_API_KEY = getpass(prompt=\"Please input your OpenAI API Key and Enter: \")"
   ]
  },
  {
   "cell_type": "markdown",
   "id": "10b17b1a",
   "metadata": {},
   "source": [
    "<span style=\"color: blue; font-size: 30px;\">Data Ingestion</span><br>\n",
    "Fetch data corresponding to scope: *Phase 3, Study Completed, Reported p-values, Sponsor is Pfizer*"
   ]
  },
  {
   "cell_type": "code",
   "execution_count": 4,
   "id": "3b83137c",
   "metadata": {},
   "outputs": [],
   "source": [
    "def get_trial(nct_id):\n",
    "    \"\"\"\n",
    "    Return: the JSON data for a clinical trial given its NCT ID.\n",
    "    \"\"\"\n",
    "    trial = req.get(f\"https://clinicaltrials.gov/api/v2/studies/{nct_id}\")\n",
    "    trial_json = trial.json()\n",
    "    return trial_json"
   ]
  },
  {
   "cell_type": "code",
   "execution_count": 5,
   "id": "caef252e",
   "metadata": {},
   "outputs": [],
   "source": [
    "def get_downloaded_json(list_of_nct_id):\n",
    "    \"\"\"\n",
    "    Downloads JSON file(s)\n",
    "    \"\"\"\n",
    "    downloaded_json = []\n",
    "    for nct_id in list_of_nct_id:\n",
    "        trial = get_trial(nct_id)\n",
    "        downloaded_json.append(trial)\n",
    "    return downloaded_json"
   ]
  },
  {
   "cell_type": "code",
   "execution_count": 6,
   "id": "41db59df",
   "metadata": {},
   "outputs": [],
   "source": [
    "# get a list of NCT IDs from utils (hard-coded for convenience)\n",
    "list_of_nct_id = pfizer_ncts"
   ]
  },
  {
   "cell_type": "code",
   "execution_count": 7,
   "id": "4ea87d94",
   "metadata": {},
   "outputs": [
    {
     "data": {
      "text/plain": [
       "247"
      ]
     },
     "execution_count": 7,
     "metadata": {},
     "output_type": "execute_result"
    }
   ],
   "source": [
    "# fetch the JSON data for the trials\n",
    "downloaded_json = get_downloaded_json(list_of_nct_id)\n",
    "# downloaded_json[0] # check\n",
    "len(downloaded_json) # check"
   ]
  },
  {
   "cell_type": "markdown",
   "id": "bda439dd",
   "metadata": {},
   "source": [
    "<span style=\"color: blue; font-size: 30px;\">Data Manipulation"
   ]
  },
  {
   "cell_type": "code",
   "execution_count": 8,
   "id": "9e526ce2",
   "metadata": {},
   "outputs": [],
   "source": [
    "# For each trial, extract a  subset of the data, save to a list\n",
    "# the function extract_from_json is imported from utils \n",
    "\n",
    "def list_from_extracted_json(downloaded_json): \n",
    "    \"\"\"\n",
    "    Processes and saves extracted JSON file(s) locally for review\n",
    "    Return: a list of documents.\n",
    "    \"\"\"\n",
    "    documents_list  = []\n",
    "    for json_file in downloaded_json:\n",
    "        extracted_json = extract_from_json(json_file)\n",
    "        nct_id = json_file['protocolSection']['identificationModule']['nctId']\n",
    "        save_path = f\"{nct_id}_extracted.json\"\n",
    "        # uncomment to save JSON file(s) locally\n",
    "        # with open(save_path, \"w\") as f:\n",
    "        #     json.dump(extracted_json, f, indent=4)\n",
    "        \n",
    "        documents_list.append(extracted_json)\n",
    "    return documents_list"
   ]
  },
  {
   "cell_type": "code",
   "execution_count": 9,
   "id": "6e06d1b1",
   "metadata": {},
   "outputs": [
    {
     "data": {
      "text/plain": [
       "247"
      ]
     },
     "execution_count": 9,
     "metadata": {},
     "output_type": "execute_result"
    }
   ],
   "source": [
    "# create a list of documents from the extracted JSON data \n",
    "documents_list = list_from_extracted_json(downloaded_json)\n",
    "len(documents_list) # check"
   ]
  },
  {
   "cell_type": "markdown",
   "id": "3e02a575",
   "metadata": {},
   "source": [
    "### Metadata\n",
    "Note: JSON files clinicaltrials.gov are heterogenous and each may contain different number of fields."
   ]
  },
  {
   "cell_type": "code",
   "execution_count": 10,
   "id": "69a1403d",
   "metadata": {},
   "outputs": [],
   "source": [
    "def max_keys(documents_list):\n",
    "    \"\"\"\n",
    "    Identifies the document with the maximum number of keys in a list of dictionaries.\n",
    "    Return: a list of keys from the document with the maximum number of keys. \n",
    "    \"\"\"\n",
    "    max_index, _ = max(enumerate(documents_list), key=lambda x: len(x[1].keys()))\n",
    "    all_keys = list(documents_list[max_index].keys())\n",
    "    return all_keys"
   ]
  },
  {
   "cell_type": "code",
   "execution_count": 11,
   "id": "c06cfaa4",
   "metadata": {},
   "outputs": [
    {
     "data": {
      "text/plain": [
       "68"
      ]
     },
     "execution_count": 11,
     "metadata": {},
     "output_type": "execute_result"
    }
   ],
   "source": [
    "# get the keys from the document that has the most keys\n",
    "# use \"all_keys\" during creation Llama Documents\n",
    "all_keys = max_keys(documents_list)\n",
    "len(all_keys) # check\n",
    "# all_keys # check"
   ]
  },
  {
   "cell_type": "code",
   "execution_count": 12,
   "id": "6bdaf308",
   "metadata": {},
   "outputs": [],
   "source": [
    "def adjust_metadata_keys(all_keys, keys_to_include):\n",
    "    \"\"\"\n",
    "    To adjust the metadata keys used.\n",
    "    Return: keys to exclude from list of all_keys not in list of keys_to_include.\n",
    "    \"\"\"\n",
    "    keys_to_exclude = [key for key in all_keys if key not in keys_to_include]\n",
    "    return keys_to_exclude"
   ]
  },
  {
   "cell_type": "markdown",
   "id": "0802b631",
   "metadata": {},
   "source": [
    "##### Select metadata for LLM"
   ]
  },
  {
   "cell_type": "code",
   "execution_count": 13,
   "id": "8db6943e",
   "metadata": {},
   "outputs": [
    {
     "data": {
      "text/plain": [
       "60"
      ]
     },
     "execution_count": 13,
     "metadata": {},
     "output_type": "execute_result"
    }
   ],
   "source": [
    "# WIP — need to explore the how these affect RAG Retrieval\n",
    "llm_keys_to_incude = [\n",
    "    \"National Clinical Identification NCT ID\",\n",
    "    \"Brief title\",\n",
    "    \"Condition\",\n",
    "    \"Conditions keywords\",\n",
    "    \"Lead sponsor\",\n",
    "    \"Arms group 0 intervention names\",\n",
    "    \"p-value\",\n",
    "    \"Statistical Method\",\n",
    "]\n",
    "\n",
    "# to exclude the keys not used by LLM\n",
    "llm_keys_to_exclude = adjust_metadata_keys(all_keys, llm_keys_to_incude)\n",
    "len(llm_keys_to_exclude) # check"
   ]
  },
  {
   "cell_type": "markdown",
   "id": "6756f79e",
   "metadata": {},
   "source": [
    "##### Select metadata for Embedding"
   ]
  },
  {
   "cell_type": "code",
   "execution_count": 14,
   "id": "1b43a67d",
   "metadata": {},
   "outputs": [
    {
     "data": {
      "text/plain": [
       "60"
      ]
     },
     "execution_count": 14,
     "metadata": {},
     "output_type": "execute_result"
    }
   ],
   "source": [
    "# WIP — need to explore the how these affect RAG Retrieval \n",
    "# for simplicity, this is the same as llm_keys_to_exclude (in this example)\n",
    "embedding_keys_to_incude = [\n",
    "    \"National Clinical Identification NCT ID\",\n",
    "    \"Brief title\",\n",
    "    \"Condition\",\n",
    "    \"Conditions keywords\",\n",
    "    \"Lead sponsor\",\n",
    "    \"Arms group 0 intervention names\",\n",
    "    \"p-value\",\n",
    "    \"Statistical Method\",\n",
    "]\n",
    "\n",
    "# to exclude the keys not used by embedding\n",
    "embedding_keys_to_exclude = adjust_metadata_keys(all_keys, llm_keys_to_incude)\n",
    "len(embedding_keys_to_exclude) # check"
   ]
  },
  {
   "cell_type": "markdown",
   "id": "78a5d6ba",
   "metadata": {},
   "source": [
    "<span style=\"color: blue; font-size: 30px;\">Prepare for *Vectorizing* Data"
   ]
  },
  {
   "cell_type": "markdown",
   "id": "35fc22cd",
   "metadata": {},
   "source": [
    "##### Select Embedding Model"
   ]
  },
  {
   "cell_type": "code",
   "execution_count": 15,
   "id": "fb9ce292",
   "metadata": {},
   "outputs": [],
   "source": [
    "# using this as baseline standard\n",
    "embed_model = OpenAIEmbedding(model=\"text-embedding-3-large\", api_key=OPENAI_API_KEY)"
   ]
  },
  {
   "cell_type": "markdown",
   "id": "c46ae093",
   "metadata": {},
   "source": [
    "##### Select LLM  type"
   ]
  },
  {
   "cell_type": "code",
   "execution_count": 16,
   "id": "50892a9e",
   "metadata": {},
   "outputs": [],
   "source": [
    "# using this as baseline standard\n",
    "llm = OpenAI(temperature=0.0, model=\"gpt-3.5-turbo-0125\", max_tokens=512, api_key=OPENAI_API_KEY)"
   ]
  },
  {
   "cell_type": "markdown",
   "id": "3b498df7",
   "metadata": {},
   "source": [
    "##### Global settings (Embedding & LLM)"
   ]
  },
  {
   "cell_type": "code",
   "execution_count": 17,
   "id": "7000306d",
   "metadata": {},
   "outputs": [],
   "source": [
    "Settings.llm = llm\n",
    "Settings.embed_model = embed_model"
   ]
  },
  {
   "cell_type": "markdown",
   "id": "145c0507",
   "metadata": {},
   "source": [
    "### **Creating & Loading** *LlamaIndex* Documents"
   ]
  },
  {
   "cell_type": "markdown",
   "id": "692c79cb",
   "metadata": {},
   "source": [
    "##### Example of format to load into LlamaIndex"
   ]
  },
  {
   "cell_type": "code",
   "execution_count": 18,
   "id": "511943a0",
   "metadata": {},
   "outputs": [],
   "source": [
    "# NOTE:  metata data must be one of (str, int, float, None)\n",
    "def create_llama_docs(documents_list):\n",
    "    \"\"\"\n",
    "    Converts a list of trial documents into LlamaIndex Document objects.\n",
    "    \"\"\"\n",
    "    \n",
    "    llama_documents = []  \n",
    "    for trial in documents_list:\n",
    "        # apply functions from utils to flatten JSON and create content similar to the example above\n",
    "        content_text = format_flattened_dict(flatten_dict(trial))\n",
    "\n",
    "        llama_document = Document(\n",
    "            text=content_text, \n",
    "            metadata=trial, \n",
    "            excluded_llm_metadata_keys=llm_keys_to_exclude, #<== adjust?, TBD\n",
    "            excluded_embed_metadata_keys=embedding_keys_to_exclude , #<== adjust?, TBD\n",
    "            metadata_template=\"{key}=>{value}\",\n",
    "            text_template=\"Metadata:\\n{metadata_str}\\n===========================\\nContent: \\n{content}\"\n",
    "        )\n",
    "        llama_documents.append(llama_document)  \n",
    "    return llama_documents"
   ]
  },
  {
   "cell_type": "code",
   "execution_count": 19,
   "id": "9024a007",
   "metadata": {},
   "outputs": [
    {
     "data": {
      "text/plain": [
       "247"
      ]
     },
     "execution_count": 19,
     "metadata": {},
     "output_type": "execute_result"
    }
   ],
   "source": [
    "# Create LlamaIndex Document objects\n",
    "llama_documents = create_llama_docs(documents_list)\n",
    "len(llama_documents) # check"
   ]
  },
  {
   "cell_type": "code",
   "execution_count": 20,
   "id": "adf15760",
   "metadata": {},
   "outputs": [
    {
     "name": "stdout",
     "output_type": "stream",
     "text": [
      "Metadata:\n",
      "National Clinical Identification NCT ID=>NCT00036270\n",
      "Brief title=>Randomized Phase III Study Of Exemestane (Aromasin) For 5 Years Versus Tamoxifen for 2.5 to 3 Years Followed By Exemestane\n",
      "Lead sponsor=>Pfizer\n",
      "Condition=>['Breast Neoplasms']\n",
      "Conditions keywords=>oof, this data not available\n",
      "Arms group 0 intervention names=>['Drug: exemestane (Aromasin)']\n",
      "p-value=>0.118\n",
      "Statistical Method=>Log Rank\n",
      "===========================\n",
      "Content: \n",
      "\"National Clinical Identification NCT ID\": \"NCT00036270\",\n",
      "\"Organization study identification\": \"971-ONC-0028-081\",\n",
      "\"EudraCT number\": \"A5991026\",\n",
      "\"Organization\": \"Pfizer\",\n",
      "\"Organization class\": \"INDUSTRY\",\n",
      "\"Brief title\": \"Randomized Phase III Study Of Exemestane (Aromasin) For 5 Years Versus Tamoxifen for 2.5 to 3 Years Followed By Exemestane\",\n",
      "\"Official title\": \"Randomized Phase III Study Of Exemestane (Aromasin) For 5 Years Versus Tamoxifen For 2.5- 3 Years Followed By Exemestane (Aromasin) For A Total Of 5 Years As Adjuvant Therapy For Postmenopausal, Receptor Positive, Node Negative or Node Positive Breast Cancer Patients\",\n",
      "\"Overall status\": \"COMPLETED\",\n",
      "\"Start date\": \"2001-08\",\n",
      "\"Primary completion date\": \"2008-10\",\n",
      "\"Completion date\": \"2011-02\",\n",
      "\"Verification date\": \"2015-10\",\n",
      "\"Study first submitted date\": \"2002-05-08\",\n",
      "\"Results first submitted date\": \"2009-10-30\",\n",
      "\"Last update submitted date\": \"2015-10-06\",\n",
      "\"Last update posted date\": \"2015-10-28\",\n",
      "\"Lead sponsor\": \"Pfizer\",\n",
      "\"Lead sponsor class\": \"INDUSTRY\",\n",
      "\"Brief summary\": \"To compare the effects of exemestane for 5 years versus tamoxifen and exemestane given sequentially over 5 years in the adjuvant treatment of postmenopausal women with early breast cancer.\n",
      "This Pfizer sponsored trial is part of an international collaboration of investigators conducting 7 similar yet independent studies in 9 countries. This study is designed to be part of the larger TEAM trial where the data from these 7 studies will be combined. A pre-specified analysis of the pooled data will be conducted.\",\n",
      "\"Detailed description\": \"oof, this data not available\",\n",
      "\"Condition\": \"['Breast Neoplasms']\",\n",
      "\"Conditions keywords\": \"oof, this data not available\",\n",
      "\"Study type\": \"INTERVENTIONAL\",\n",
      "\"Phases\": \"['PHASE3']\",\n",
      "\"Allocation\": \"RANDOMIZED\",\n",
      "\"Intervention model\": \"PARALLEL\",\n",
      "\"Primary purpose\": \"TREATMENT\",\n",
      "\"Masking\": \"NONE\",\n",
      "\"Who is masked\": \"oof, this data not available\",\n",
      "\"Enrollment count\": \"9779\",\n",
      "\"Enrollment type\": \"ACTUAL\",\n",
      "\"Arms group 0 label\": \"exemestane\",\n",
      "\"Arms group 0 type\": \"EXPERIMENTAL\",\n",
      "\"Arms group 0 description\": \"\",\n",
      "\"Arms group 0 intervention names\": \"['Drug: exemestane (Aromasin)']\",\n",
      "\"Arms group 1 label\": \"tamoxifen + exemestane\",\n",
      "\"Arms group 1 type\": \"EXPERIMENTAL\",\n",
      "\"Arms group 1 description\": \"\",\n",
      "\"Arms group 1 intervention names\": \"['Drug: tamoxifen + exemestane']\",\n",
      "\"Arms group 0 intervention type\": \"DRUG\",\n",
      "\"Arms group 0 intervention name\": \"exemestane (Aromasin)\",\n",
      "\"Arms group 0 intervention description\": \"exemestane, orally, 25 mg, for 5 years\",\n",
      "\"Arms group 0 intervention labels\": \"['exemestane']\",\n",
      "\"Arms group 1 intervention type\": \"DRUG\",\n",
      "\"Arms group 1 intervention name\": \"tamoxifen + exemestane\",\n",
      "\"Arms group 1 intervention description\": \"tamoxifen, 20 mg, orally, daily, 2-3 years& followed by exemestane, orally, 25 mg, for a total of 5 years of therapy\",\n",
      "\"Arms group 1 intervention labels\": \"['tamoxifen + exemestane']\",\n",
      "\"Primary outcome\": \"Disease Free Survival (DFS): Number of Events (Disease Relapse or Death) From Baseline up to 2.75 Years\",\n",
      "\"Primary outcome description\": \"Number of events (disease relapse or death) to time of observation for DFS. DFS defined as time from randomization to earliest documentation of disease relapse or death from any cause in postmenopausal, receptor positive, node negative or node positive breast cancer patients for adjuvant treatment with exemestane compared with adjuvant tamoxifen therapy at 2.75 years. Disease relapse: primary tumor recurrence (locoregional or distant) and ipsilateral or contralateral breast cancer (CBC). Intercurrent death: death without disease relapse.\",\n",
      "\"Primary outcome time frame\": \"Baseline (Month 0) up to 2.75 years\",\n",
      "\"Eligibility criteria\": \"Inclusion Criteria:\n",
      "* Histologically/cytologically confirmed adenocarcinoma of the breast, followed by adequate surgical resection and/or radiotherapy, and/or adjuvant chemotherapy, if indicated.\n",
      "* Stage T1-3 N0-2 Mo, Any TNM stage BC for whom adjuvant hormonal therapy is being considered.\n",
      "Exclusion Criteria:\n",
      "* Those patients not deemed to have had potentially curative primary surgical treatment or one of the following criteria:\n",
      "* Inflammatory breast cancer\n",
      "* Histologically positive supraclavicular nodes\n",
      "* Ulceration/infiltration of local skin metastasis\n",
      "* Neoadjuvant chemotherapy\n",
      "* Ductal carcinoma in situ (DCIS) or lobular carcinoma in situ (LCIS) without invasion\n",
      "* ER and PR negative primary tumor or ER/PR unknown status.\",\n",
      "\"Eligibility of healthy volunteer\": \"False\",\n",
      "\"Eligibility sex\": \"FEMALE\",\n",
      "\"Eligibility minimum age\": \"50 Years\",\n",
      "\"Eligibility standard age\": \"['ADULT', 'OLDER_ADULT']\",\n",
      "\"Pre-assignment details\": \"oof, this data not available\",\n",
      "\"Recruitment details\": \"oof, this data not available\",\n",
      "\"Recruitment group 0 id\": \"FG000\",\n",
      "\"Recruitment group 0 title\": \"Exemestane\",\n",
      "\"Recruitment group 0 description\": \"Exemestane (Aromasin®) 25 milligram (mg) once daily (QD) for 5 years.\",\n",
      "\"Recruitment group 1 id\": \"FG001\",\n",
      "\"Recruitment group 1 title\": \"Tamoxifen Followed by Exemestane\",\n",
      "\"Recruitment group 1 description\": \"Tamoxifen 20 mg QD& upon completing 2.5 years to 3 years of tamoxifen, participants were to be switched to exemestane 25 mg QD and then were to complete a total of 5 years endocrine therapy.\",\n",
      "\"Group IDs\": \"[{'groupIds': ['OG000', 'OG001'], 'groupDescription': 'Analysis at 2.75 years post-randomization. Null hypothesis: no difference in DFS between the two treatments for the first 2.75 years.\\n\\nTo maintain overall alpha of 0.05, 2 adjustments made: first, a nominal alpha of 0.0302 was used for the primary endpoint. Second, level of significant was 0.0012 for interim analysis.', 'testedNonInferiority': False, 'nonInferiorityType': 'SUPERIORITY_OR_OTHER', 'pValue': '0.118', 'statisticalMethod': 'Log Rank', 'statisticalComment': 'Log rank (Mantel-Cox). Adjusted for overall stratification factor& 1 degree of freedom.', 'paramType': 'Hazard Ratio (HR)', 'paramValue': '0.89', 'ciPctValue': '95', 'ciNumSides': 'TWO_SIDED', 'ciLowerLimit': '0.77', 'ciUpperLimit': '1.03', 'estimateComment': 'A hazard ratio less than 1 favors the test treatment (exemestane only arm).'}]\",\n",
      "\"p-value\": \"0.118\",\n",
      "\"Statistical Method\": \"Log Rank\",\n",
      "\"Limitations and caveats\": \"Overall Survival was reported as number of events which otherwise reported as time.\",\n",
      "\"Has results\": \"True\"\n"
     ]
    }
   ],
   "source": [
    "# Example — LLM sees this:\n",
    "print(llama_documents[0].get_content(metadata_mode=MetadataMode.LLM))"
   ]
  },
  {
   "cell_type": "code",
   "execution_count": 21,
   "id": "ab6baf3c",
   "metadata": {},
   "outputs": [
    {
     "name": "stdout",
     "output_type": "stream",
     "text": [
      "Metadata:\n",
      "National Clinical Identification NCT ID=>NCT00036270\n",
      "Brief title=>Randomized Phase III Study Of Exemestane (Aromasin) For 5 Years Versus Tamoxifen for 2.5 to 3 Years Followed By Exemestane\n",
      "Lead sponsor=>Pfizer\n",
      "Condition=>['Breast Neoplasms']\n",
      "Conditions keywords=>oof, this data not available\n",
      "Arms group 0 intervention names=>['Drug: exemestane (Aromasin)']\n",
      "p-value=>0.118\n",
      "Statistical Method=>Log Rank\n",
      "===========================\n",
      "Content: \n",
      "\"National Clinical Identification NCT ID\": \"NCT00036270\",\n",
      "\"Organization study identification\": \"971-ONC-0028-081\",\n",
      "\"EudraCT number\": \"A5991026\",\n",
      "\"Organization\": \"Pfizer\",\n",
      "\"Organization class\": \"INDUSTRY\",\n",
      "\"Brief title\": \"Randomized Phase III Study Of Exemestane (Aromasin) For 5 Years Versus Tamoxifen for 2.5 to 3 Years Followed By Exemestane\",\n",
      "\"Official title\": \"Randomized Phase III Study Of Exemestane (Aromasin) For 5 Years Versus Tamoxifen For 2.5- 3 Years Followed By Exemestane (Aromasin) For A Total Of 5 Years As Adjuvant Therapy For Postmenopausal, Receptor Positive, Node Negative or Node Positive Breast Cancer Patients\",\n",
      "\"Overall status\": \"COMPLETED\",\n",
      "\"Start date\": \"2001-08\",\n",
      "\"Primary completion date\": \"2008-10\",\n",
      "\"Completion date\": \"2011-02\",\n",
      "\"Verification date\": \"2015-10\",\n",
      "\"Study first submitted date\": \"2002-05-08\",\n",
      "\"Results first submitted date\": \"2009-10-30\",\n",
      "\"Last update submitted date\": \"2015-10-06\",\n",
      "\"Last update posted date\": \"2015-10-28\",\n",
      "\"Lead sponsor\": \"Pfizer\",\n",
      "\"Lead sponsor class\": \"INDUSTRY\",\n",
      "\"Brief summary\": \"To compare the effects of exemestane for 5 years versus tamoxifen and exemestane given sequentially over 5 years in the adjuvant treatment of postmenopausal women with early breast cancer.\n",
      "This Pfizer sponsored trial is part of an international collaboration of investigators conducting 7 similar yet independent studies in 9 countries. This study is designed to be part of the larger TEAM trial where the data from these 7 studies will be combined. A pre-specified analysis of the pooled data will be conducted.\",\n",
      "\"Detailed description\": \"oof, this data not available\",\n",
      "\"Condition\": \"['Breast Neoplasms']\",\n",
      "\"Conditions keywords\": \"oof, this data not available\",\n",
      "\"Study type\": \"INTERVENTIONAL\",\n",
      "\"Phases\": \"['PHASE3']\",\n",
      "\"Allocation\": \"RANDOMIZED\",\n",
      "\"Intervention model\": \"PARALLEL\",\n",
      "\"Primary purpose\": \"TREATMENT\",\n",
      "\"Masking\": \"NONE\",\n",
      "\"Who is masked\": \"oof, this data not available\",\n",
      "\"Enrollment count\": \"9779\",\n",
      "\"Enrollment type\": \"ACTUAL\",\n",
      "\"Arms group 0 label\": \"exemestane\",\n",
      "\"Arms group 0 type\": \"EXPERIMENTAL\",\n",
      "\"Arms group 0 description\": \"\",\n",
      "\"Arms group 0 intervention names\": \"['Drug: exemestane (Aromasin)']\",\n",
      "\"Arms group 1 label\": \"tamoxifen + exemestane\",\n",
      "\"Arms group 1 type\": \"EXPERIMENTAL\",\n",
      "\"Arms group 1 description\": \"\",\n",
      "\"Arms group 1 intervention names\": \"['Drug: tamoxifen + exemestane']\",\n",
      "\"Arms group 0 intervention type\": \"DRUG\",\n",
      "\"Arms group 0 intervention name\": \"exemestane (Aromasin)\",\n",
      "\"Arms group 0 intervention description\": \"exemestane, orally, 25 mg, for 5 years\",\n",
      "\"Arms group 0 intervention labels\": \"['exemestane']\",\n",
      "\"Arms group 1 intervention type\": \"DRUG\",\n",
      "\"Arms group 1 intervention name\": \"tamoxifen + exemestane\",\n",
      "\"Arms group 1 intervention description\": \"tamoxifen, 20 mg, orally, daily, 2-3 years& followed by exemestane, orally, 25 mg, for a total of 5 years of therapy\",\n",
      "\"Arms group 1 intervention labels\": \"['tamoxifen + exemestane']\",\n",
      "\"Primary outcome\": \"Disease Free Survival (DFS): Number of Events (Disease Relapse or Death) From Baseline up to 2.75 Years\",\n",
      "\"Primary outcome description\": \"Number of events (disease relapse or death) to time of observation for DFS. DFS defined as time from randomization to earliest documentation of disease relapse or death from any cause in postmenopausal, receptor positive, node negative or node positive breast cancer patients for adjuvant treatment with exemestane compared with adjuvant tamoxifen therapy at 2.75 years. Disease relapse: primary tumor recurrence (locoregional or distant) and ipsilateral or contralateral breast cancer (CBC). Intercurrent death: death without disease relapse.\",\n",
      "\"Primary outcome time frame\": \"Baseline (Month 0) up to 2.75 years\",\n",
      "\"Eligibility criteria\": \"Inclusion Criteria:\n",
      "* Histologically/cytologically confirmed adenocarcinoma of the breast, followed by adequate surgical resection and/or radiotherapy, and/or adjuvant chemotherapy, if indicated.\n",
      "* Stage T1-3 N0-2 Mo, Any TNM stage BC for whom adjuvant hormonal therapy is being considered.\n",
      "Exclusion Criteria:\n",
      "* Those patients not deemed to have had potentially curative primary surgical treatment or one of the following criteria:\n",
      "* Inflammatory breast cancer\n",
      "* Histologically positive supraclavicular nodes\n",
      "* Ulceration/infiltration of local skin metastasis\n",
      "* Neoadjuvant chemotherapy\n",
      "* Ductal carcinoma in situ (DCIS) or lobular carcinoma in situ (LCIS) without invasion\n",
      "* ER and PR negative primary tumor or ER/PR unknown status.\",\n",
      "\"Eligibility of healthy volunteer\": \"False\",\n",
      "\"Eligibility sex\": \"FEMALE\",\n",
      "\"Eligibility minimum age\": \"50 Years\",\n",
      "\"Eligibility standard age\": \"['ADULT', 'OLDER_ADULT']\",\n",
      "\"Pre-assignment details\": \"oof, this data not available\",\n",
      "\"Recruitment details\": \"oof, this data not available\",\n",
      "\"Recruitment group 0 id\": \"FG000\",\n",
      "\"Recruitment group 0 title\": \"Exemestane\",\n",
      "\"Recruitment group 0 description\": \"Exemestane (Aromasin®) 25 milligram (mg) once daily (QD) for 5 years.\",\n",
      "\"Recruitment group 1 id\": \"FG001\",\n",
      "\"Recruitment group 1 title\": \"Tamoxifen Followed by Exemestane\",\n",
      "\"Recruitment group 1 description\": \"Tamoxifen 20 mg QD& upon completing 2.5 years to 3 years of tamoxifen, participants were to be switched to exemestane 25 mg QD and then were to complete a total of 5 years endocrine therapy.\",\n",
      "\"Group IDs\": \"[{'groupIds': ['OG000', 'OG001'], 'groupDescription': 'Analysis at 2.75 years post-randomization. Null hypothesis: no difference in DFS between the two treatments for the first 2.75 years.\\n\\nTo maintain overall alpha of 0.05, 2 adjustments made: first, a nominal alpha of 0.0302 was used for the primary endpoint. Second, level of significant was 0.0012 for interim analysis.', 'testedNonInferiority': False, 'nonInferiorityType': 'SUPERIORITY_OR_OTHER', 'pValue': '0.118', 'statisticalMethod': 'Log Rank', 'statisticalComment': 'Log rank (Mantel-Cox). Adjusted for overall stratification factor& 1 degree of freedom.', 'paramType': 'Hazard Ratio (HR)', 'paramValue': '0.89', 'ciPctValue': '95', 'ciNumSides': 'TWO_SIDED', 'ciLowerLimit': '0.77', 'ciUpperLimit': '1.03', 'estimateComment': 'A hazard ratio less than 1 favors the test treatment (exemestane only arm).'}]\",\n",
      "\"p-value\": \"0.118\",\n",
      "\"Statistical Method\": \"Log Rank\",\n",
      "\"Limitations and caveats\": \"Overall Survival was reported as number of events which otherwise reported as time.\",\n",
      "\"Has results\": \"True\"\n"
     ]
    }
   ],
   "source": [
    "# Example — Embedding sees this:\n",
    "print(llama_documents[0].get_content(metadata_mode=MetadataMode.EMBED))"
   ]
  },
  {
   "cell_type": "markdown",
   "id": "b6c5ad18",
   "metadata": {},
   "source": [
    "### **Chunking** — creating *LlamaIndex* Nodes"
   ]
  },
  {
   "cell_type": "code",
   "execution_count": 22,
   "id": "13c22a1a",
   "metadata": {},
   "outputs": [],
   "source": [
    "def create_nodes(llama_documents):\n",
    "    \"\"\"\n",
    "    Generates and embeds nodes from Llama documents.\n",
    "    \"\"\"\n",
    "    parser = SentenceSplitter(chunk_size=8190,chunk_overlap=0) # <== adjust\n",
    "    nodes = parser.get_nodes_from_documents(llama_documents)\n",
    "    for node in nodes:\n",
    "        node_embedding = embed_model.get_text_embedding(\n",
    "            node.get_content(metadata_mode=MetadataMode.EMBED)\n",
    "        )\n",
    "        node.embedding = node_embedding\n",
    "    return nodes"
   ]
  },
  {
   "cell_type": "code",
   "execution_count": 23,
   "id": "ea3a7934",
   "metadata": {},
   "outputs": [],
   "source": [
    "# create nodes from Llama documents\n",
    "nodes = create_nodes(llama_documents)"
   ]
  },
  {
   "cell_type": "markdown",
   "id": "1bf0e579",
   "metadata": {},
   "source": [
    "### **Storing** Nodes — with *Chroma Vector Database*"
   ]
  },
  {
   "cell_type": "code",
   "execution_count": 24,
   "id": "c8c6826f",
   "metadata": {},
   "outputs": [
    {
     "name": "stdout",
     "output_type": "stream",
     "text": [
      "Looking for the RAG_OPENAI collection in the database...\n",
      "RAG_OPENAI collection WAS NOT FOUND in Chroma DB, creating...\n",
      "Creating vector store...\n",
      "Creating vector store index\n",
      "record count: 248\n"
     ]
    }
   ],
   "source": [
    "# Chroma DB collection name\n",
    "COLLECTION_NAME = \"RAG_OPENAI\"\n",
    "\n",
    "db = chromadb.PersistentClient(path=\"chroma_db\")\n",
    "print(f\"Looking for the {COLLECTION_NAME} collection in the database...\" )\n",
    "if COLLECTION_NAME not in [col.name for col in db.list_collections()]:\n",
    "    print(f\"{COLLECTION_NAME} collection WAS NOT FOUND in Chroma DB, creating...\")\n",
    "    chroma_collection = db.create_collection(COLLECTION_NAME)\n",
    "    print(\"Creating vector store...\")\n",
    "    vector_store = ChromaVectorStore(chroma_collection=chroma_collection)\n",
    "    storage_context = StorageContext.from_defaults(vector_store=vector_store)\n",
    "    print(\"Creating vector store index\")\n",
    "    VectorStoreIndex(\n",
    "        nodes=nodes,\n",
    "        storage_context=storage_context,\n",
    "        store_nodes_override=True\n",
    "    )\n",
    "    record_count = chroma_collection.count()\n",
    "    print(f\"record count: {record_count}\")   \n",
    "    \n",
    "else:\n",
    "    print(f\"{COLLECTION_NAME} collection WAS FOUND in Chroma DB\")\n",
    "    COLLECTION_NAME = db.get_collection(COLLECTION_NAME)\n",
    "    vector_store = ChromaVectorStore(chroma_collection=COLLECTION_NAME)\n",
    "    print(\"Restoring vector store index from the collection...\")\n",
    "    index = VectorStoreIndex.from_vector_store(\n",
    "        vector_store=vector_store,\n",
    "        embed_model=embed_model,\n",
    "        store_nodes_override=True\n",
    "    )\n",
    "    record_count = COLLECTION_NAME.count()\n",
    "    print(f\"record count: {record_count}\")"
   ]
  },
  {
   "cell_type": "markdown",
   "id": "0cce45d1",
   "metadata": {},
   "source": [
    "###  **Creating Vector Index** from stored Nodes"
   ]
  },
  {
   "cell_type": "code",
   "execution_count": 25,
   "id": "e732d908",
   "metadata": {},
   "outputs": [],
   "source": [
    "index = VectorStoreIndex.from_vector_store(vector_store)  "
   ]
  },
  {
   "cell_type": "markdown",
   "id": "4ba4248e",
   "metadata": {},
   "source": [
    "<span style=\"color: blue; font-size: 30px\">Querying with the ChatBot"
   ]
  },
  {
   "cell_type": "code",
   "execution_count": 26,
   "id": "d5bd18d8",
   "metadata": {},
   "outputs": [],
   "source": [
    "memory = ChatMemoryBuffer.from_defaults(token_limit=10000) #<== adjust\n",
    "# chat_engine.reset() \n",
    "\n",
    "chat_engine = index.as_chat_engine(\n",
    "    similarity_top_k=3, #<== adjust\n",
    "    chat_mode=\"condense_question\",\n",
    "\n",
    "    memory=memory,\n",
    "    llm=llm,\n",
    "    context_prompt=(\n",
    "        \"\"\"\n",
    "        You are a chatbot which is expert in parsing information.\n",
    "        When asked a question, provide a complete response, concisely.\n",
    "        \"\"\"\n",
    "        \"Here are the relevant documents for the context:\\n\"\n",
    "        \"{context_str}\"\n",
    "        \"\\nInstruction: Use only the context above or this chat history to respond.\"\n",
    "    ),\n",
    "    verbose=False,\n",
    ")"
   ]
  },
  {
   "cell_type": "code",
   "execution_count": 27,
   "id": "2ce1ddfd",
   "metadata": {},
   "outputs": [],
   "source": [
    "def ask_chatbot(query):\n",
    "    response = chat_engine.chat(query)\n",
    "    display(Markdown(chat_engine.chat(query).response))\n",
    "    # return response"
   ]
  },
  {
   "cell_type": "code",
   "execution_count": 28,
   "id": "4607af23",
   "metadata": {},
   "outputs": [],
   "source": [
    "start_time = time.time()"
   ]
  },
  {
   "cell_type": "code",
   "execution_count": 29,
   "id": "85612c77",
   "metadata": {},
   "outputs": [
    {
     "data": {
      "text/markdown": [
       "A Study To Evaluate Safety And Efficacy Of IV Sildenafil In The Treatment Of Neonates With Persistent Pulmonary Hypertension Of The Newborn"
      ],
      "text/plain": [
       "<IPython.core.display.Markdown object>"
      ]
     },
     "metadata": {},
     "output_type": "display_data"
    }
   ],
   "source": [
    "query = \"Provide brief title(s) for studies involving newborn babies and Sildenafil?\"\n",
    "ask_chatbot(query)\n",
    "# True answer: A Study To Evaluate Safety And Efficacy Of IV Sildenafil In The Treatment Of Neonates With Persistent Pulmonary Hypertension Of The Newborn"
   ]
  },
  {
   "cell_type": "code",
   "execution_count": 30,
   "id": "dcac5c3d",
   "metadata": {},
   "outputs": [
    {
     "data": {
      "text/markdown": [
       "The NCT ID for the study titled \"A Study To Evaluate Safety And Efficacy Of IV Sildenafil In The Treatment Of Neonates With Persistent Pulmonary Hypertension Of The Newborn\" is NCT01720524."
      ],
      "text/plain": [
       "<IPython.core.display.Markdown object>"
      ]
     },
     "metadata": {},
     "output_type": "display_data"
    }
   ],
   "source": [
    "query = \"Provide the NCT ID for this study involving infants.\"\n",
    "ask_chatbot(query)\n",
    "# True answer: NCT01720524"
   ]
  },
  {
   "cell_type": "code",
   "execution_count": 31,
   "id": "9d6212a4",
   "metadata": {},
   "outputs": [
    {
     "data": {
      "text/markdown": [
       "The aim of the study was to evaluate whether intravenous sildenafil could reduce the time on inhaled nitric oxide treatment and decrease the failure rate of available treatments for persistent pulmonary hypertension of the newborn."
      ],
      "text/plain": [
       "<IPython.core.display.Markdown object>"
      ]
     },
     "metadata": {},
     "output_type": "display_data"
    }
   ],
   "source": [
    "query = \"Provide a plain language summary of this study?\"\n",
    "ask_chatbot(query)"
   ]
  },
  {
   "cell_type": "code",
   "execution_count": 32,
   "id": "ef29ab05",
   "metadata": {},
   "outputs": [
    {
     "data": {
      "text/markdown": [
       "The enrollment count for the study titled \"A Study To Evaluate Safety And Efficacy Of IV Sildenafil In The Treatment Of Neonates With Persistent Pulmonary Hypertension Of The Newborn\" with NCT ID NCT01720524 was 59."
      ],
      "text/plain": [
       "<IPython.core.display.Markdown object>"
      ]
     },
     "metadata": {},
     "output_type": "display_data"
    }
   ],
   "source": [
    "query = \"What was the enrollment count for this trial?\"\n",
    "# query = \"What was the enrollment count of the trial with Sildenafil involving newborn babies?\"\n",
    "ask_chatbot(query)\n",
    "# True answer: 59"
   ]
  },
  {
   "cell_type": "code",
   "execution_count": 33,
   "id": "b0535f40",
   "metadata": {},
   "outputs": [
    {
     "data": {
      "text/markdown": [
       "The time frame for the primary outcome of the study \"A Study To Evaluate Safety And Efficacy Of IV Sildenafil In The Treatment Of Neonates With Persistent Pulmonary Hypertension Of The Newborn\" with NCT ID NCT01720524 was 14 days from the initiation of IV study drug or hospital discharge, whichever occurred first, with a maximum of 14 days."
      ],
      "text/plain": [
       "<IPython.core.display.Markdown object>"
      ]
     },
     "metadata": {},
     "output_type": "display_data"
    }
   ],
   "source": [
    "query = \"What was the time frame for the primary oucome of this trial?\"\n",
    "ask_chatbot(query)\n",
    "# True answer: \n",
    "# 14 days from the initiation of IV study drug or hospital discharge, whichever occurred first. "
   ]
  },
  {
   "cell_type": "code",
   "execution_count": 34,
   "id": "999ba435",
   "metadata": {},
   "outputs": [
    {
     "data": {
      "text/markdown": [
       "The EudraCT number for the study titled \"A Study To Evaluate Safety And Efficacy Of IV Sildenafil In The Treatment Of Neonates With Persistent Pulmonary Hypertension Of The Newborn\" with NCT ID NCT01720524 is 2012-002619-24."
      ],
      "text/plain": [
       "<IPython.core.display.Markdown object>"
      ]
     },
     "metadata": {},
     "output_type": "display_data"
    }
   ],
   "source": [
    "query = \"What was EudraCT number of this trial?\"\n",
    "ask_chatbot(query)\n",
    "# True answer: \"2012-002619-24\""
   ]
  },
  {
   "cell_type": "code",
   "execution_count": 35,
   "id": "dabf168c",
   "metadata": {},
   "outputs": [
    {
     "data": {
      "text/markdown": [
       "The conditions mentioned in the trial \"A Study To Evaluate Safety And Efficacy Of IV Sildenafil In The Treatment Of Neonates With Persistent Pulmonary Hypertension Of The Newborn\" are 'persistent pulmonary hypertension', 'newborn', 'neonates', 'iv sildenafil', and 'hypoxic respiratory failure and at risk of persistent pulmonary hypertension of the newborn'."
      ],
      "text/plain": [
       "<IPython.core.display.Markdown object>"
      ]
     },
     "metadata": {},
     "output_type": "display_data"
    }
   ],
   "source": [
    "query = \"Briefly, what conditions are mentioned in this trial involving Sildenafil?\"\n",
    "ask_chatbot(query)\n",
    "# True answer: \t\"Pulmonary Hypertension, Familial Persistent, of the Newborn\""
   ]
  },
  {
   "cell_type": "code",
   "execution_count": 36,
   "id": "40cbc68e",
   "metadata": {},
   "outputs": [
    {
     "data": {
      "text/markdown": [
       "Participants in the study \"A Study To Evaluate Safety And Efficacy Of IV Sildenafil In The Treatment Of Neonates With Persistent Pulmonary Hypertension Of The Newborn\" received the treatment through intravenous administration of sildenafil. The treatment involved a loading dose of 0.1 mg/kg over 30 minutes followed by a maintenance dose of 0.03 mg/kg/h. The infusion was required to continue for a minimum of 48 hours and a maximum of 14 days."
      ],
      "text/plain": [
       "<IPython.core.display.Markdown object>"
      ]
     },
     "metadata": {},
     "output_type": "display_data"
    }
   ],
   "source": [
    "query = \"How did participants receive the treatment?\"\n",
    "ask_chatbot(query)\n",
    "# True answer: \t\"Part A: Participants received sildenafil intravenously based on their body weight"
   ]
  },
  {
   "cell_type": "code",
   "execution_count": 37,
   "id": "81bc582d",
   "metadata": {},
   "outputs": [
    {
     "data": {
      "text/markdown": [
       "ANCOVA"
      ],
      "text/plain": [
       "<IPython.core.display.Markdown object>"
      ]
     },
     "metadata": {},
     "output_type": "display_data"
    }
   ],
   "source": [
    "query = \"What statistical method used this trial?\"\n",
    "# query = \"What statistical method used this trial involving  Sildenafil involving newborn babies??\"\n",
    "ask_chatbot(query)\n",
    "# True answer: \"ANCOVA\""
   ]
  },
  {
   "cell_type": "code",
   "execution_count": 38,
   "id": "d464c76c",
   "metadata": {},
   "outputs": [
    {
     "data": {
      "text/markdown": [
       "The p-value reported for the trial involving newborn babies and Sildenafil was 0.9850."
      ],
      "text/plain": [
       "<IPython.core.display.Markdown object>"
      ]
     },
     "metadata": {},
     "output_type": "display_data"
    }
   ],
   "source": [
    "query = \"What p-value was reported for this trial with Sildenafil for newborn babies?\"\n",
    "ask_chatbot(query)\n",
    "# True answer: \t0.9850"
   ]
  },
  {
   "cell_type": "code",
   "execution_count": 39,
   "id": "1f0b4095",
   "metadata": {},
   "outputs": [
    {
     "data": {
      "text/markdown": [
       "A p-value of 0.9850 suggests that there is no statistically significant difference between the groups being compared in the study involving newborn babies and Sildenafil. Researchers typically use p-values to determine the statistical significance of their findings. In this case, a p-value of 0.9850 indicates that the results are not likely due to chance and do not provide enough evidence to reject the null hypothesis, which suggests that the intervention (IV Sildenafil) did not have a significant effect compared to the control group (placebo) in the treatment of neonates with persistent pulmonary hypertension of the newborn."
      ],
      "text/plain": [
       "<IPython.core.display.Markdown object>"
      ]
     },
     "metadata": {},
     "output_type": "display_data"
    }
   ],
   "source": [
    "query = \"What does this p-value suggest about the study in question? Provide an overview of how researchers use p-value in such studies.\"\n",
    "ask_chatbot(query)\n",
    "# True answer: treatment not effective"
   ]
  },
  {
   "cell_type": "code",
   "execution_count": 40,
   "id": "2bf15881",
   "metadata": {},
   "outputs": [
    {
     "data": {
      "text/markdown": [
       "The treatment with IV Sildenafil in the study involving newborn babies with persistent pulmonary hypertension of the newborn was not successful based on the reported p-value of 0.9850."
      ],
      "text/plain": [
       "<IPython.core.display.Markdown object>"
      ]
     },
     "metadata": {},
     "output_type": "display_data"
    }
   ],
   "source": [
    "query = \"Based on the p-value, would you say this treatment was successful?\"\n",
    "ask_chatbot(query)\n",
    "# True answer: not successful"
   ]
  },
  {
   "cell_type": "code",
   "execution_count": 41,
   "id": "0588936d",
   "metadata": {},
   "outputs": [
    {
     "name": "stdout",
     "output_type": "stream",
     "text": [
      "runtime: 79 seconds\n"
     ]
    }
   ],
   "source": [
    "end_time = time.time()\n",
    "print(f\"runtime: {end_time - start_time:.0f} seconds\")"
   ]
  },
  {
   "cell_type": "markdown",
   "id": "1a89d5a0",
   "metadata": {},
   "source": [
    "##### Reset the ChatBot"
   ]
  },
  {
   "cell_type": "code",
   "execution_count": 42,
   "id": "2f64e505",
   "metadata": {},
   "outputs": [],
   "source": [
    "chat_engine.reset() \n",
    "memory = ChatMemoryBuffer.from_defaults(token_limit=10000) #<== adjust\n",
    "history = chat_engine.chat_history\n",
    "# history"
   ]
  },
  {
   "cell_type": "code",
   "execution_count": 43,
   "id": "d19939da",
   "metadata": {},
   "outputs": [
    {
     "data": {
      "text/markdown": [
       "National Clinical Identification"
      ],
      "text/plain": [
       "<IPython.core.display.Markdown object>"
      ]
     },
     "metadata": {},
     "output_type": "display_data"
    }
   ],
   "source": [
    "query = \"What does the acronym NCT mean?\"\n",
    "ask_chatbot(query)"
   ]
  },
  {
   "cell_type": "code",
   "execution_count": 44,
   "id": "d67eaf81",
   "metadata": {},
   "outputs": [
    {
     "data": {
      "text/markdown": [
       "Yes, Japanese participants were involved in the National Clinical Identification trial with the NCT ID NCT00445770."
      ],
      "text/plain": [
       "<IPython.core.display.Markdown object>"
      ]
     },
     "metadata": {},
     "output_type": "display_data"
    }
   ],
   "source": [
    "query = \"Were Japanese participants involved in any trial? If, so please provide the NCT ID.\"\n",
    "ask_chatbot(query)\n",
    "# True answer: Yes, Japanese participants were involved in the trial with the National Clinical Identification NCT00445770."
   ]
  },
  {
   "cell_type": "code",
   "execution_count": 45,
   "id": "b13ad21d",
   "metadata": {},
   "outputs": [
    {
     "data": {
      "text/markdown": [
       "The p-value of the National Clinical Identification trial involving Japanese participants with the NCT ID NCT00445770 was less than 0.0001."
      ],
      "text/plain": [
       "<IPython.core.display.Markdown object>"
      ]
     },
     "metadata": {},
     "output_type": "display_data"
    }
   ],
   "source": [
    "query = \"What was the p-value of this trial?\"\n",
    "ask_chatbot(query)\n",
    "# True answer: <.0001"
   ]
  },
  {
   "cell_type": "code",
   "execution_count": 46,
   "id": "9f52217d",
   "metadata": {},
   "outputs": [
    {
     "data": {
      "text/markdown": [
       "The p-value less than 0.0001 in the National Clinical Identification trial suggests that there is a statistically significant difference in the efficacy and safety of Etanercept and Methotrexate in Japanese subjects with rheumatoid arthritis."
      ],
      "text/plain": [
       "<IPython.core.display.Markdown object>"
      ]
     },
     "metadata": {},
     "output_type": "display_data"
    }
   ],
   "source": [
    "query = \"What does this p-value suggest about this trial? Phrase your explanation of p-value very clearly, so that anyone can understand it.\"\n",
    "ask_chatbot(query)\n",
    "# True answer: results show strong statistical significance "
   ]
  },
  {
   "cell_type": "code",
   "execution_count": 47,
   "id": "9d965db2",
   "metadata": {},
   "outputs": [
    {
     "data": {
      "text/markdown": [
       "Yes, the treatment was successful based on the p-value of the National Clinical Identification trial involving Japanese participants with the NCT ID NCT00445770."
      ],
      "text/plain": [
       "<IPython.core.display.Markdown object>"
      ]
     },
     "metadata": {},
     "output_type": "display_data"
    }
   ],
   "source": [
    "query = \"Based on the p-value, would you say this treatment was successful?\"\n",
    "ask_chatbot(query)\n",
    "# True answer: successful"
   ]
  },
  {
   "cell_type": "markdown",
   "id": "a33ec982",
   "metadata": {},
   "source": [
    "##### Reset the ChatBot"
   ]
  },
  {
   "cell_type": "code",
   "execution_count": 48,
   "id": "49e412dd",
   "metadata": {},
   "outputs": [],
   "source": [
    "chat_engine.reset() \n",
    "memory = ChatMemoryBuffer.from_defaults(token_limit=10000) #<== adjust\n",
    "history = chat_engine.chat_history\n",
    "# history"
   ]
  },
  {
   "cell_type": "markdown",
   "id": "58e06616",
   "metadata": {},
   "source": [
    "<span style=\"color: blue; font-size: 30px;\">Evaluation"
   ]
  },
  {
   "cell_type": "markdown",
   "id": "b667b347",
   "metadata": {},
   "source": [
    "### Select LLM and Query Engine"
   ]
  },
  {
   "cell_type": "code",
   "execution_count": 49,
   "id": "4f10b3d9",
   "metadata": {},
   "outputs": [],
   "source": [
    "llm3 = llm\n",
    "llm4 = OpenAI(model=\"gpt-4\")\n",
    "vector_index = VectorStoreIndex.from_vector_store(vector_store)  \n",
    "query_engine = vector_index.as_query_engine(llm=llm3)"
   ]
  },
  {
   "cell_type": "markdown",
   "id": "ec7c4ed9",
   "metadata": {},
   "source": [
    "### Creating a Question / Context Dataset for Evaluation|"
   ]
  },
  {
   "cell_type": "code",
   "execution_count": 50,
   "id": "c6de89bf",
   "metadata": {},
   "outputs": [
    {
     "name": "stderr",
     "output_type": "stream",
     "text": [
      "100%|██████████| 248/248 [06:55<00:00,  1.68s/it]\n"
     ]
    }
   ],
   "source": [
    "qa_dataset = generate_question_context_pairs(\n",
    "    nodes,\n",
    "    llm=llm3,\n",
    "    num_questions_per_chunk=3\n",
    ")"
   ]
  },
  {
   "cell_type": "markdown",
   "id": "4b90d848",
   "metadata": {},
   "source": [
    "### Hit Rate & Mean Reciprocal Rank "
   ]
  },
  {
   "cell_type": "code",
   "execution_count": 51,
   "id": "60f27e53",
   "metadata": {},
   "outputs": [
    {
     "name": "stdout",
     "output_type": "stream",
     "text": [
      "Hit Rate: 0.60\n",
      "Mean Reciprocal Rank (MRR): 0.52\n"
     ]
    }
   ],
   "source": [
    "retriever = vector_index.as_retriever(similarity_top_k=3)\n",
    "retriever_evaluator = RetrieverEvaluator.from_metric_names(\n",
    "    [\"mrr\", \"hit_rate\"], retriever=retriever\n",
    ")\n",
    "\n",
    "eval_results = await retriever_evaluator.aevaluate_dataset(qa_dataset)\n",
    "metric_dicts = []\n",
    "for eval_result in eval_results:\n",
    "    metric_dict = eval_result.metric_vals_dict\n",
    "    metric_dicts.append(metric_dict)\n",
    "\n",
    "full_df = pd.DataFrame(metric_dicts)\n",
    "hit_rate = round(full_df[\"hit_rate\"].mean(), 2)\n",
    "mrr = round(full_df[\"mrr\"].mean(), 2)\n",
    "\n",
    "print(f\"Hit Rate: {hit_rate:.2f}\") \n",
    "print(f\"Mean Reciprocal Rank (MRR): {mrr:.2f}\")"
   ]
  },
  {
   "cell_type": "markdown",
   "id": "c5178bac",
   "metadata": {},
   "source": [
    "Hit Rate: 0.60<br>\n",
    "Mean Reciprocal Rank (MRR): 0.52"
   ]
  },
  {
   "cell_type": "markdown",
   "id": "26efdc2b",
   "metadata": {},
   "source": [
    "### Faithfullness & Relevancy"
   ]
  },
  {
   "cell_type": "code",
   "execution_count": 52,
   "id": "fb4ff3d3",
   "metadata": {},
   "outputs": [],
   "source": [
    "queries = list(qa_dataset.queries.values())\n",
    "faithfulness_gpt4 = FaithfulnessEvaluator(llm=llm3)\n",
    "relevancy_gpt4 = RelevancyEvaluator(llm=llm3)"
   ]
  },
  {
   "cell_type": "code",
   "execution_count": 54,
   "id": "6169a41a",
   "metadata": {},
   "outputs": [
    {
     "name": "stdout",
     "output_type": "stream",
     "text": [
      "Faithfulness Score: 0.90\n",
      "Relevancy Score: 0.80\n"
     ]
    }
   ],
   "source": [
    "num_samples = 10\n",
    "batch_eval_queries = random.sample(queries, num_samples)\n",
    "\n",
    "# Initiate BatchEvalRunner to compute FaithFulness and Relevancy Evaluation.\n",
    "runner = BatchEvalRunner(\n",
    "    {\"faithfulness\": faithfulness_gpt4, \"relevancy\": relevancy_gpt4},\n",
    "    workers=1,\n",
    ")\n",
    "\n",
    "# Compute evaluation\n",
    "eval_results = await runner.aevaluate_queries(\n",
    "    query_engine, queries=batch_eval_queries\n",
    "\n",
    ")\n",
    "\n",
    "faithfulness_score = sum(result.passing for result in eval_results['faithfulness']) / len(eval_results['faithfulness'])\n",
    "print(f\"Faithfulness Score: {faithfulness_score:.2f}\")\n",
    "\n",
    "relevancy_score = sum(result.passing for result in eval_results['relevancy']) / len(eval_results['relevancy'])\n",
    "print(f\"Relevancy Score: {relevancy_score:.2f}\")"
   ]
  },
  {
   "cell_type": "markdown",
   "id": "8db188c2",
   "metadata": {},
   "source": [
    "Faithfulness Score: 0.90<br>\n",
    "Relevancy Score: 0.80"
   ]
  },
  {
   "cell_type": "markdown",
   "id": "a271969e",
   "metadata": {},
   "source": [
    "### Summary of Metrics<br>\n",
    "(1) “**Hit Rate**” —the percentage of times the most relevant document falls within the top-k retrieved documents by the RAG system. This helps us gauge capability of the retrieval.<br>\n",
    "(2) “**Mean Reciprocal Rank**” (MRR) — a perfect MRR score of 1 indicates the most relevant document is always retrieved first. But if the RAG returns the most relevant document as its 3rd choice that would be MRR=0.33 (so, higher is better).<br>\n",
    "(3) “**Faithfulness**” — how well the response matches the retrievable context — here a very low score indicates hallucination.<br>\n",
    "(4) “**Relevancy**” — measures if the response and context match up nicely with the query. A low score suggests the answer might be off-topic or not addressing the specific question (like students who answer what they know, rather than what the teacher asked).<br>"
   ]
  },
  {
   "cell_type": "code",
   "execution_count": 55,
   "id": "083addbd",
   "metadata": {},
   "outputs": [
    {
     "data": {
      "text/html": [
       "<div>\n",
       "<style scoped>\n",
       "    .dataframe tbody tr th:only-of-type {\n",
       "        vertical-align: middle;\n",
       "    }\n",
       "\n",
       "    .dataframe tbody tr th {\n",
       "        vertical-align: top;\n",
       "    }\n",
       "\n",
       "    .dataframe thead th {\n",
       "        text-align: right;\n",
       "    }\n",
       "</style>\n",
       "<table border=\"1\" class=\"dataframe\">\n",
       "  <thead>\n",
       "    <tr style=\"text-align: right;\">\n",
       "      <th></th>\n",
       "      <th>Hit Rate</th>\n",
       "      <th>Mean Reciprocal Rank (MRR)</th>\n",
       "      <th>Faithfulness Score</th>\n",
       "      <th>Relevancy Score</th>\n",
       "    </tr>\n",
       "  </thead>\n",
       "  <tbody>\n",
       "    <tr>\n",
       "      <th>0</th>\n",
       "      <td>0.6</td>\n",
       "      <td>0.52</td>\n",
       "      <td>0.9</td>\n",
       "      <td>0.8</td>\n",
       "    </tr>\n",
       "  </tbody>\n",
       "</table>\n",
       "</div>"
      ],
      "text/plain": [
       "   Hit Rate  Mean Reciprocal Rank (MRR)  Faithfulness Score  Relevancy Score \n",
       "0       0.6                        0.52                 0.9               0.8"
      ]
     },
     "metadata": {},
     "output_type": "display_data"
    }
   ],
   "source": [
    "columns = {\"Hit Rate\": [hit_rate], \"Mean Reciprocal Rank (MRR)\": [mrr], 'Faithfulness Score': [faithfulness_score], 'Relevancy Score ': [relevancy_score]}\n",
    "metric_df = pd.DataFrame(columns)\n",
    "display(metric_df)"
   ]
  },
  {
   "cell_type": "markdown",
   "id": "c6e72921",
   "metadata": {},
   "source": [
    "### END"
   ]
  }
 ],
 "metadata": {
  "kernelspec": {
   "display_name": "Python 3 (ipykernel)",
   "language": "python",
   "name": "python3"
  },
  "language_info": {
   "codemirror_mode": {
    "name": "ipython",
    "version": 3
   },
   "file_extension": ".py",
   "mimetype": "text/x-python",
   "name": "python",
   "nbconvert_exporter": "python",
   "pygments_lexer": "ipython3",
   "version": "3.10.9"
  },
  "toc": {
   "base_numbering": 1,
   "nav_menu": {},
   "number_sections": true,
   "sideBar": true,
   "skip_h1_title": false,
   "title_cell": "Table of Contents",
   "title_sidebar": "Contents",
   "toc_cell": false,
   "toc_position": {},
   "toc_section_display": true,
   "toc_window_display": false
  }
 },
 "nbformat": 4,
 "nbformat_minor": 5
}
